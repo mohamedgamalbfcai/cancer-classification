{
 "cells": [
  {
   "cell_type": "code",
   "execution_count": 9,
   "id": "b2eee1e6",
   "metadata": {},
   "outputs": [
    {
     "data": {
      "text/html": [
       "<div>\n",
       "<style scoped>\n",
       "    .dataframe tbody tr th:only-of-type {\n",
       "        vertical-align: middle;\n",
       "    }\n",
       "\n",
       "    .dataframe tbody tr th {\n",
       "        vertical-align: top;\n",
       "    }\n",
       "\n",
       "    .dataframe thead th {\n",
       "        text-align: right;\n",
       "    }\n",
       "</style>\n",
       "<table border=\"1\" class=\"dataframe\">\n",
       "  <thead>\n",
       "    <tr style=\"text-align: right;\">\n",
       "      <th></th>\n",
       "      <th>mean_radius</th>\n",
       "      <th>mean_texture</th>\n",
       "      <th>mean_perimeter</th>\n",
       "      <th>mean_area</th>\n",
       "      <th>mean_smoothness</th>\n",
       "      <th>diagnosis</th>\n",
       "    </tr>\n",
       "  </thead>\n",
       "  <tbody>\n",
       "    <tr>\n",
       "      <th>0</th>\n",
       "      <td>17.99</td>\n",
       "      <td>10.38</td>\n",
       "      <td>122.80</td>\n",
       "      <td>1001.0</td>\n",
       "      <td>0.11840</td>\n",
       "      <td>0</td>\n",
       "    </tr>\n",
       "    <tr>\n",
       "      <th>1</th>\n",
       "      <td>20.57</td>\n",
       "      <td>17.77</td>\n",
       "      <td>132.90</td>\n",
       "      <td>1326.0</td>\n",
       "      <td>0.08474</td>\n",
       "      <td>0</td>\n",
       "    </tr>\n",
       "    <tr>\n",
       "      <th>2</th>\n",
       "      <td>19.69</td>\n",
       "      <td>21.25</td>\n",
       "      <td>130.00</td>\n",
       "      <td>1203.0</td>\n",
       "      <td>0.10960</td>\n",
       "      <td>0</td>\n",
       "    </tr>\n",
       "    <tr>\n",
       "      <th>3</th>\n",
       "      <td>11.42</td>\n",
       "      <td>20.38</td>\n",
       "      <td>77.58</td>\n",
       "      <td>386.1</td>\n",
       "      <td>0.14250</td>\n",
       "      <td>0</td>\n",
       "    </tr>\n",
       "    <tr>\n",
       "      <th>4</th>\n",
       "      <td>20.29</td>\n",
       "      <td>14.34</td>\n",
       "      <td>135.10</td>\n",
       "      <td>1297.0</td>\n",
       "      <td>0.10030</td>\n",
       "      <td>0</td>\n",
       "    </tr>\n",
       "  </tbody>\n",
       "</table>\n",
       "</div>"
      ],
      "text/plain": [
       "   mean_radius  mean_texture  mean_perimeter  mean_area  mean_smoothness  \\\n",
       "0        17.99         10.38          122.80     1001.0          0.11840   \n",
       "1        20.57         17.77          132.90     1326.0          0.08474   \n",
       "2        19.69         21.25          130.00     1203.0          0.10960   \n",
       "3        11.42         20.38           77.58      386.1          0.14250   \n",
       "4        20.29         14.34          135.10     1297.0          0.10030   \n",
       "\n",
       "   diagnosis  \n",
       "0          0  \n",
       "1          0  \n",
       "2          0  \n",
       "3          0  \n",
       "4          0  "
      ]
     },
     "execution_count": 9,
     "metadata": {},
     "output_type": "execute_result"
    }
   ],
   "source": [
    "import pandas as pd\n",
    "import numpy as np\n",
    "import matplotlib.pyplot as plt\n",
    "import seaborn as sns\n",
    "from sklearn.model_selection import train_test_split\n",
    "from sklearn import metrics\n",
    "from sklearn.metrics import accuracy_score\n",
    "dataset = pd.read_csv('Breast_cancer_data.csv')\n",
    "dataset.head()"
   ]
  },
  {
   "cell_type": "code",
   "execution_count": 7,
   "id": "673a4a34",
   "metadata": {},
   "outputs": [
    {
     "data": {
      "text/html": [
       "<div>\n",
       "<style scoped>\n",
       "    .dataframe tbody tr th:only-of-type {\n",
       "        vertical-align: middle;\n",
       "    }\n",
       "\n",
       "    .dataframe tbody tr th {\n",
       "        vertical-align: top;\n",
       "    }\n",
       "\n",
       "    .dataframe thead th {\n",
       "        text-align: right;\n",
       "    }\n",
       "</style>\n",
       "<table border=\"1\" class=\"dataframe\">\n",
       "  <thead>\n",
       "    <tr style=\"text-align: right;\">\n",
       "      <th></th>\n",
       "      <th>mean_radius</th>\n",
       "      <th>mean_texture</th>\n",
       "      <th>mean_perimeter</th>\n",
       "      <th>mean_area</th>\n",
       "      <th>mean_smoothness</th>\n",
       "      <th>diagnosis</th>\n",
       "    </tr>\n",
       "  </thead>\n",
       "  <tbody>\n",
       "    <tr>\n",
       "      <th>count</th>\n",
       "      <td>569.000000</td>\n",
       "      <td>569.000000</td>\n",
       "      <td>569.000000</td>\n",
       "      <td>569.000000</td>\n",
       "      <td>569.000000</td>\n",
       "      <td>569.000000</td>\n",
       "    </tr>\n",
       "    <tr>\n",
       "      <th>mean</th>\n",
       "      <td>14.127292</td>\n",
       "      <td>19.289649</td>\n",
       "      <td>91.969033</td>\n",
       "      <td>654.889104</td>\n",
       "      <td>0.096360</td>\n",
       "      <td>0.627417</td>\n",
       "    </tr>\n",
       "    <tr>\n",
       "      <th>std</th>\n",
       "      <td>3.524049</td>\n",
       "      <td>4.301036</td>\n",
       "      <td>24.298981</td>\n",
       "      <td>351.914129</td>\n",
       "      <td>0.014064</td>\n",
       "      <td>0.483918</td>\n",
       "    </tr>\n",
       "    <tr>\n",
       "      <th>min</th>\n",
       "      <td>6.981000</td>\n",
       "      <td>9.710000</td>\n",
       "      <td>43.790000</td>\n",
       "      <td>143.500000</td>\n",
       "      <td>0.052630</td>\n",
       "      <td>0.000000</td>\n",
       "    </tr>\n",
       "    <tr>\n",
       "      <th>25%</th>\n",
       "      <td>11.700000</td>\n",
       "      <td>16.170000</td>\n",
       "      <td>75.170000</td>\n",
       "      <td>420.300000</td>\n",
       "      <td>0.086370</td>\n",
       "      <td>0.000000</td>\n",
       "    </tr>\n",
       "    <tr>\n",
       "      <th>50%</th>\n",
       "      <td>13.370000</td>\n",
       "      <td>18.840000</td>\n",
       "      <td>86.240000</td>\n",
       "      <td>551.100000</td>\n",
       "      <td>0.095870</td>\n",
       "      <td>1.000000</td>\n",
       "    </tr>\n",
       "    <tr>\n",
       "      <th>75%</th>\n",
       "      <td>15.780000</td>\n",
       "      <td>21.800000</td>\n",
       "      <td>104.100000</td>\n",
       "      <td>782.700000</td>\n",
       "      <td>0.105300</td>\n",
       "      <td>1.000000</td>\n",
       "    </tr>\n",
       "    <tr>\n",
       "      <th>max</th>\n",
       "      <td>28.110000</td>\n",
       "      <td>39.280000</td>\n",
       "      <td>188.500000</td>\n",
       "      <td>2501.000000</td>\n",
       "      <td>0.163400</td>\n",
       "      <td>1.000000</td>\n",
       "    </tr>\n",
       "  </tbody>\n",
       "</table>\n",
       "</div>"
      ],
      "text/plain": [
       "       mean_radius  mean_texture  mean_perimeter    mean_area  \\\n",
       "count   569.000000    569.000000      569.000000   569.000000   \n",
       "mean     14.127292     19.289649       91.969033   654.889104   \n",
       "std       3.524049      4.301036       24.298981   351.914129   \n",
       "min       6.981000      9.710000       43.790000   143.500000   \n",
       "25%      11.700000     16.170000       75.170000   420.300000   \n",
       "50%      13.370000     18.840000       86.240000   551.100000   \n",
       "75%      15.780000     21.800000      104.100000   782.700000   \n",
       "max      28.110000     39.280000      188.500000  2501.000000   \n",
       "\n",
       "       mean_smoothness   diagnosis  \n",
       "count       569.000000  569.000000  \n",
       "mean          0.096360    0.627417  \n",
       "std           0.014064    0.483918  \n",
       "min           0.052630    0.000000  \n",
       "25%           0.086370    0.000000  \n",
       "50%           0.095870    1.000000  \n",
       "75%           0.105300    1.000000  \n",
       "max           0.163400    1.000000  "
      ]
     },
     "execution_count": 7,
     "metadata": {},
     "output_type": "execute_result"
    }
   ],
   "source": [
    "data_input = dataset.drop(columns=['diagnosis'])\n",
    "data_output = dataset['diagnosis']\n",
    "dataset.describe()"
   ]
  },
  {
   "cell_type": "code",
   "execution_count": 18,
   "id": "10237f73",
   "metadata": {},
   "outputs": [
    {
     "name": "stderr",
     "output_type": "stream",
     "text": [
      "C:\\ProgramData\\Anaconda3\\lib\\site-packages\\seaborn\\_decorators.py:36: FutureWarning: Pass the following variable as a keyword arg: x. From version 0.12, the only valid positional argument will be `data`, and passing other arguments without an explicit keyword will result in an error or misinterpretation.\n",
      "  warnings.warn(\n"
     ]
    },
    {
     "name": "stdout",
     "output_type": "stream",
     "text": [
      "Number of Benign cancer :  357\n",
      "Number of Malignant cancer :  212\n"
     ]
    },
    {
     "data": {
      "image/png": "[encoded data removed]",
      "text/plain": [
       "<Figure size 432x288 with 1 Axes>"
      ]
     },
     "metadata": {
      "needs_background": "light"
     },
     "output_type": "display_data"
    }
   ],
   "source": [
    "sns.countplot(data_output,label=\"Count\");\n",
    "B, M = data_output.value_counts()\n",
    "print('Number of Benign cancer : ',B)\n",
    "print('Number of Malignant cancer : ',M)"
   ]
  },
  {
   "cell_type": "code",
   "execution_count": 78,
   "id": "3a9d15d8",
   "metadata": {},
   "outputs": [
    {
     "data": {
      "image/png": "[encoded data removed]",
      "text/plain": [
       "<Figure size 864x864 with 2 Axes>"
      ]
     },
     "metadata": {
      "needs_background": "light"
     },
     "output_type": "display_data"
    }
   ],
   "source": [
    "# Correlation map\n",
    "plt.figure(figsize=(12, 12))\n",
    "sns.heatmap(dataset.corr(), annot = True, cmap = \"Blues\")\n",
    "plt.show()"
   ]
  },
  {
   "cell_type": "code",
   "execution_count": 71,
   "id": "cb081b6a",
   "metadata": {},
   "outputs": [],
   "source": [
    "x_train, x_test, y_train, y_test = train_test_split( data_input , data_output, test_size=0.25 , random_state=0)\n",
    "from sklearn.preprocessing import StandardScaler\n",
    "scaled_xtrain =StandardScaler()\n",
    "x_train =  scaled_xtrain.fit_transform(x_train)\n",
    "x_test =  scaled_xtrain.fit_transform(x_test)"
   ]
  },
  {
   "cell_type": "code",
   "execution_count": 30,
   "id": "85a75b84",
   "metadata": {},
   "outputs": [],
   "source": [
    "#KNN\n",
    "from sklearn.neighbors import KNeighborsClassifier\n",
    "model=KNeighborsClassifier(n_neighbors=7)\n",
    "model.fit(x_train , y_train)\n",
    "knn_pred = model.predict(x_test)"
   ]
  },
  {
   "cell_type": "code",
   "execution_count": 35,
   "id": "28f8a909",
   "metadata": {},
   "outputs": [
    {
     "name": "stdout",
     "output_type": "stream",
     "text": [
      "[[142  17]\n",
      " [  8 259]]\n",
      "[[45  8]\n",
      " [ 7 83]]\n"
     ]
    }
   ],
   "source": [
    "from sklearn.metrics import confusion_matrix\n",
    "cm_train_svm=confusion_matrix(y_train ,model.predict(x_train) )\n",
    "cm_test_svm=confusion_matrix(y_test ,model.predict(x_test) )\n",
    "print( cm_train_svm)\n",
    "print(cm_test_svm)"
   ]
  },
  {
   "cell_type": "code",
   "execution_count": 38,
   "id": "e2a20740",
   "metadata": {},
   "outputs": [
    {
     "name": "stdout",
     "output_type": "stream",
     "text": [
      "accuracy of training of KNN is 0.9413145539906104\n",
      "accuracy of testing is 0.8951048951048951\n"
     ]
    }
   ],
   "source": [
    "acc_train_knn = accuracy_score(y_train ,model.predict(x_train))\n",
    "acc_test_knn = accuracy_score(y_test ,model.predict(x_test))\n",
    "print('accuracy of training of KNN is' , acc_train_knn)\n",
    "print('accuracy of testing is' , acc_test_knn)"
   ]
  },
  {
   "cell_type": "code",
   "execution_count": 63,
   "id": "05a83859",
   "metadata": {},
   "outputs": [],
   "source": [
    "#save KNN model\n",
    "import pickle\n",
    "knn = \"KNN_finalized_model.sav\"\n",
    "pickle.dump(model, open(knn, 'wb'))\n"
   ]
  },
  {
   "cell_type": "code",
   "execution_count": 37,
   "id": "ff54f1b1",
   "metadata": {},
   "outputs": [
    {
     "name": "stdout",
     "output_type": "stream",
     "text": [
      "[[143  16]\n",
      " [  7 260]]\n",
      "[[49  4]\n",
      " [ 7 83]]\n",
      "accuracy of training of SVM is 0.9460093896713615\n",
      "accuracy of testing of svm is 0.9230769230769231\n"
     ]
    }
   ],
   "source": [
    "#SVM\n",
    "from sklearn.svm import SVC\n",
    "model2 = SVC(kernel='rbf')\n",
    "model2.fit(x_train,y_train)\n",
    "SVM_pred = model2.predict(x_test)\n",
    "from sklearn.metrics import confusion_matrix\n",
    "cm_train_svm=confusion_matrix(y_train ,model2.predict(x_train) )\n",
    "cm_test_svm=confusion_matrix(y_test ,model2.predict(x_test) )\n",
    "print( cm_train_svm)\n",
    "print(cm_test_svm)\n",
    "acc_train_svm = accuracy_score(y_train ,model2.predict(x_train))\n",
    "acc_test_svm = accuracy_score(y_test ,model2.predict(x_test))\n",
    "print('accuracy of training of SVM is' , acc_train_svm)\n",
    "print('accuracy of testing of svm is' , acc_test_svm)"
   ]
  },
  {
   "cell_type": "code",
   "execution_count": 62,
   "id": "f1646572",
   "metadata": {},
   "outputs": [],
   "source": [
    "#save svm model\n",
    "import pickle\n",
    "svm = \"SVM_finalized_model.sav\"\n",
    "pickle.dump(model, open(svm, 'wb'))"
   ]
  },
  {
   "cell_type": "code",
   "execution_count": 41,
   "id": "9bd1ae35",
   "metadata": {},
   "outputs": [
    {
     "name": "stdout",
     "output_type": "stream",
     "text": [
      "matrix of training of naive bayes is  [[125  34]\n",
      " [  7 260]]\n",
      "matrix of test of naive bayes is  [[46  7]\n",
      " [ 4 86]]\n",
      "accuracy of training of naive bayes is 0.903755868544601\n",
      "accuracy of testing of naive bayes is 0.9230769230769231\n"
     ]
    }
   ],
   "source": [
    "#naive_bayes\n",
    "from sklearn.naive_bayes import GaussianNB\n",
    "model= GaussianNB()\n",
    "model.fit(x_train,y_train)\n",
    "naive_pred=model.predict(x_test)\n",
    "cm_train_naive = confusion_matrix(y_train , model.predict(x_train))\n",
    "cm_test_naive = confusion_matrix(y_test , model.predict(x_test))\n",
    "print('matrix of training of naive bayes is ',cm_train_naive)\n",
    "print('matrix of test of naive bayes is ',cm_test_naive)\n",
    "naive_acc_train = accuracy_score(y_train , model.predict(x_train))\n",
    "naive_acc_test = accuracy_score(y_test , model.predict(x_test))\n",
    "print ('accuracy of training of naive bayes is' , naive_acc_train)\n",
    "print ('accuracy of testing of naive bayes is' , naive_acc_test)"
   ]
  },
  {
   "cell_type": "code",
   "execution_count": 60,
   "id": "47139230",
   "metadata": {},
   "outputs": [],
   "source": [
    "#save naive bayes model\n",
    "import pickle\n",
    "naive_bayes = \"NB_finalized_model.sav\"\n",
    "pickle.dump(model, open(naive_bayes, 'wb'))"
   ]
  },
  {
   "cell_type": "code",
   "execution_count": 57,
   "id": "de393059",
   "metadata": {},
   "outputs": [
    {
     "name": "stdout",
     "output_type": "stream",
     "text": [
      "matrix of training of decision tree is  [[  0 159]\n",
      " [  0 267]]\n",
      "matrix of test of decision tree is  [[ 0 53]\n",
      " [ 0 90]]\n",
      "accuracy of training of decision tree is 0.6267605633802817\n",
      "accuracy of testing of decision tree is 0.6293706293706294\n"
     ]
    }
   ],
   "source": [
    "#decision tree\n",
    "from sklearn.tree import DecisionTreeRegressor\n",
    "model = DecisionTreeRegressor()\n",
    "model.fit(data_input , data_output)\n",
    "cm_train_dt = confusion_matrix(y_train , model.predict(x_train))\n",
    "cm_test_dt = confusion_matrix(y_test , model.predict(x_test))\n",
    "print('matrix of training of decision tree is ',cm_train_dt)\n",
    "print('matrix of test of decision tree is ',cm_test_dt)\n",
    "acc_train_dt = accuracy_score(y_train , model.predict(x_train))\n",
    "acc_test_dt = accuracy_score(y_test , model.predict(x_test))\n",
    "print ('accuracy of training of decision tree is' , acc_train_dt )\n",
    "print ('accuracy of testing of decision tree is' , acc_test_dt )"
   ]
  },
  {
   "cell_type": "code",
   "execution_count": 64,
   "id": "5cd81e1c",
   "metadata": {},
   "outputs": [],
   "source": [
    "#save decision tree model\n",
    "import pickle\n",
    "decision_tree = \"Dt_finalized_model.sav\"\n",
    "pickle.dump(model, open(decision_tree, 'wb'))\n"
   ]
  },
  {
   "cell_type": "code",
   "execution_count": null,
   "id": "c64dccad",
   "metadata": {},
   "outputs": [],
   "source": []
  },
  {
   "cell_type": "code",
   "execution_count": 46,
   "id": "eb20cab4",
   "metadata": {},
   "outputs": [
    {
     "name": "stdout",
     "output_type": "stream",
     "text": [
      "matrix of training of random forest is  [[159   0]\n",
      " [  0 267]]\n",
      "matrix of test of random forest is  [[49  4]\n",
      " [ 6 84]]\n",
      "accuracy of training of random forest is 1.0\n",
      "accuracy of testing of random forest is 0.9300699300699301\n"
     ]
    }
   ],
   "source": [
    "#Random forest\n",
    "from sklearn.ensemble import RandomForestClassifier\n",
    "model= RandomForestClassifier(n_estimators=400 , random_state=0)\n",
    "model.fit(x_train , y_train)\n",
    "cm_train_rf = confusion_matrix(y_train , model.predict(x_train))\n",
    "cm_test_rf = confusion_matrix(y_test , model.predict(x_test))\n",
    "print('matrix of training of random forest is ',cm_train_rf)\n",
    "print('matrix of test of random forest is ',cm_test_rf)\n",
    "acc_train_rf = accuracy_score(y_train , model.predict(x_train))\n",
    "acc_test_rf = accuracy_score(y_test , model.predict(x_test))\n",
    "print ('accuracy of training of random forest is' , acc_train_rf)\n",
    "print ('accuracy of testing of random forest is' , acc_test_rf)"
   ]
  },
  {
   "cell_type": "code",
   "execution_count": 53,
   "id": "ed139e9b",
   "metadata": {},
   "outputs": [],
   "source": [
    "#save random forest model\n",
    "import pickle\n",
    "random_forest = \"RF_finalized_model.sav\"\n",
    "pickle.dump(model, open(random_forest, 'wb'))"
   ]
  },
  {
   "cell_type": "code",
   "execution_count": 65,
   "id": "fb7a5e7a",
   "metadata": {},
   "outputs": [
    {
     "name": "stdout",
     "output_type": "stream",
     "text": [
      "0.9300699300699301\n"
     ]
    }
   ],
   "source": [
    "loaded_model = pickle.load(open(random_forest, 'rb'))\n",
    "result = loaded_model.score(x_test, y_test)\n",
    "print(result)"
   ]
  },
  {
   "cell_type": "code",
   "execution_count": 68,
   "id": "c37a513e",
   "metadata": {},
   "outputs": [
    {
     "data": {
      "image/png": "[encoded data removed]",
      "text/plain": [
       "<Figure size 432x288 with 1 Axes>"
      ]
     },
     "metadata": {
      "needs_background": "light"
     },
     "output_type": "display_data"
    }
   ],
   "source": [
    "from numpy import where\n",
    "from sklearn.datasets import make_blobs\n",
    "from matplotlib import pyplot\n",
    "# generate dataset\n",
    "X, y = make_blobs(n_samples=1000, centers=2, n_features=2, random_state=1, cluster_std=3)\n",
    "# create scatter plot for samples from each class\n",
    "for class_value in range(2):\n",
    "\t# get row indexes for samples with this class\n",
    "\trow_ix = where(y == class_value)\n",
    "\t# create scatter of these samples\n",
    "\tpyplot.scatter(X[row_ix, 0], X[row_ix, 1])\n",
    "# show the plot\n",
    "pyplot.show()"
   ]
  },
  {
   "cell_type": "code",
   "execution_count": 25,
   "id": "f7ca7251",
   "metadata": {},
   "outputs": [
    {
     "name": "stdout",
     "output_type": "stream",
     "text": [
      "Random forest prediction is [220800.]\n"
     ]
    }
   ],
   "source": []
  },
  {
   "cell_type": "code",
   "execution_count": null,
   "id": "f2688f75",
   "metadata": {},
   "outputs": [],
   "source": []
  }
 ],
 "metadata": {
  "kernelspec": {
   "display_name": "Python 3",
   "language": "python",
   "name": "python3"
  },
  "language_info": {
   "codemirror_mode": {
    "name": "ipython",
    "version": 3
   },
   "file_extension": ".py",
   "mimetype": "text/x-python",
   "name": "python",
   "nbconvert_exporter": "python",
   "pygments_lexer": "ipython3",
   "version": "3.8.8"
  }
 },
 "nbformat": 4,
 "nbformat_minor": 5
}
